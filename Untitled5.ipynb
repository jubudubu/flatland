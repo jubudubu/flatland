{
  "nbformat": 4,
  "nbformat_minor": 0,
  "metadata": {
    "colab": {
      "provenance": [],
      "gpuType": "T4",
      "authorship_tag": "ABX9TyOGicMwHUdnaJxWhIxp7Ibi",
      "include_colab_link": true
    },
    "kernelspec": {
      "name": "python3",
      "display_name": "Python 3"
    },
    "language_info": {
      "name": "python"
    },
    "accelerator": "GPU"
  },
  "cells": [
    {
      "cell_type": "markdown",
      "metadata": {
        "id": "view-in-github",
        "colab_type": "text"
      },
      "source": [
        "<a href=\"https://colab.research.google.com/github/jubudubu/flatland/blob/main/Untitled5.ipynb\" target=\"_parent\"><img src=\"https://colab.research.google.com/assets/colab-badge.svg\" alt=\"Open In Colab\"/></a>"
      ]
    },
    {
      "cell_type": "code",
      "execution_count": 9,
      "metadata": {
        "id": "dmv9WF2ukZlU"
      },
      "outputs": [],
      "source": [
        "import numpy as np\n",
        "\n",
        "data = np.load('flatland_train.npz')\n",
        "X = data['X']\n",
        "y = data['y']\n",
        "\n",
        "# Check the shape of the images\n",
        "image_height, image_width = X.shape[1:]\n",
        "num_channels = 1  # Grayscale images have one channel\n",
        "\n",
        "# Correct labels\n",
        "y[y != 0] -= 2\n",
        "\n",
        "# Scale down to range [0, 1]\n",
        "X = X / 255.\n",
        "\n",
        "num_classes = 5  # Assuming you have five classes (circle, triangle, square, pentagon, hexagon)\n"
      ]
    },
    {
      "cell_type": "code",
      "source": [
        "from sklearn.model_selection import train_test_split\n",
        "\n",
        "X_train, X_test, y_train, y_test = train_test_split(X, y, test_size=0.2, random_state=42)\n"
      ],
      "metadata": {
        "id": "9VGlsE9Bk8NB"
      },
      "execution_count": 10,
      "outputs": []
    },
    {
      "cell_type": "code",
      "source": [
        "from tensorflow.keras.models import Sequential\n",
        "from tensorflow.keras.layers import Conv2D, MaxPooling2D, Flatten, Dense\n",
        "\n",
        "model = Sequential()\n",
        "model.add(Conv2D(32, kernel_size=(3, 3), activation='relu', input_shape=(image_height, image_width, num_channels)))\n",
        "model.add(MaxPooling2D(pool_size=(2, 2)))\n",
        "model.add(Flatten())\n",
        "model.add(Dense(128, activation='relu'))\n",
        "model.add(Dense(num_classes, activation='softmax'))\n",
        "\n",
        "# Compile the model\n",
        "model.compile(optimizer='adam', loss='sparse_categorical_crossentropy', metrics=['accuracy'])\n",
        "\n",
        "# Train the model\n",
        "model.fit(X_train, y_train, epochs=10, validation_data=(X_test, y_test))\n",
        "\n"
      ],
      "metadata": {
        "colab": {
          "base_uri": "https://localhost:8080/"
        },
        "id": "poQI38dtk-xi",
        "outputId": "42a2046b-a1c4-408c-edde-add3e2c93c5f"
      },
      "execution_count": 11,
      "outputs": [
        {
          "output_type": "stream",
          "name": "stdout",
          "text": [
            "Epoch 1/10\n",
            "250/250 [==============================] - 11s 6ms/step - loss: 1.1664 - accuracy: 0.4994 - val_loss: 1.0236 - val_accuracy: 0.5605\n",
            "Epoch 2/10\n",
            "250/250 [==============================] - 1s 4ms/step - loss: 0.8383 - accuracy: 0.6655 - val_loss: 0.7814 - val_accuracy: 0.6900\n",
            "Epoch 3/10\n",
            "250/250 [==============================] - 1s 4ms/step - loss: 0.5679 - accuracy: 0.7977 - val_loss: 0.6510 - val_accuracy: 0.7500\n",
            "Epoch 4/10\n",
            "250/250 [==============================] - 1s 4ms/step - loss: 0.4179 - accuracy: 0.8546 - val_loss: 0.5601 - val_accuracy: 0.7965\n",
            "Epoch 5/10\n",
            "250/250 [==============================] - 1s 5ms/step - loss: 0.3210 - accuracy: 0.8917 - val_loss: 0.5149 - val_accuracy: 0.8170\n",
            "Epoch 6/10\n",
            "250/250 [==============================] - 1s 5ms/step - loss: 0.2375 - accuracy: 0.9234 - val_loss: 0.4775 - val_accuracy: 0.8385\n",
            "Epoch 7/10\n",
            "250/250 [==============================] - 1s 6ms/step - loss: 0.1712 - accuracy: 0.9485 - val_loss: 0.4933 - val_accuracy: 0.8395\n",
            "Epoch 8/10\n",
            "250/250 [==============================] - 1s 4ms/step - loss: 0.1218 - accuracy: 0.9641 - val_loss: 0.5036 - val_accuracy: 0.8400\n",
            "Epoch 9/10\n",
            "250/250 [==============================] - 1s 4ms/step - loss: 0.0855 - accuracy: 0.9785 - val_loss: 0.5398 - val_accuracy: 0.8495\n",
            "Epoch 10/10\n",
            "250/250 [==============================] - 1s 4ms/step - loss: 0.0609 - accuracy: 0.9859 - val_loss: 0.4940 - val_accuracy: 0.8765\n"
          ]
        },
        {
          "output_type": "execute_result",
          "data": {
            "text/plain": [
              "<keras.src.callbacks.History at 0x78426a43d3f0>"
            ]
          },
          "metadata": {},
          "execution_count": 11
        }
      ]
    },
    {
      "cell_type": "code",
      "source": [
        "model.save('model.h5')\n"
      ],
      "metadata": {
        "colab": {
          "base_uri": "https://localhost:8080/"
        },
        "id": "ZtP9n6wqlBTW",
        "outputId": "215f0591-175f-4835-e948-9b572fe9388a"
      },
      "execution_count": 12,
      "outputs": [
        {
          "output_type": "stream",
          "name": "stderr",
          "text": [
            "/usr/local/lib/python3.10/dist-packages/keras/src/engine/training.py:3079: UserWarning: You are saving your model as an HDF5 file via `model.save()`. This file format is considered legacy. We recommend using instead the native Keras format, e.g. `model.save('my_model.keras')`.\n",
            "  saving_api.save_model(\n"
          ]
        }
      ]
    },
    {
      "cell_type": "code",
      "source": [
        "import requests\n",
        "\n",
        "# Replace [RAW URL] with the raw URL of your model file\n",
        "raw_model_url = 'https://github.com/jubudubu/flatland/blob/main/Untitled5.ipynb'  # Use the correct URL\n",
        "\n",
        "# Replace [YOUR EVALUATION LINK] with the actual Flatland evaluation link\n",
        "evaluation_link = 'https://us-central1-aiprimer.cloudfunctions.net/flatland?model_link=' + raw_model_url\n",
        "\n",
        "# Make a request to the Flatland evaluation link\n",
        "response = requests.get(evaluation_link)\n",
        "\n",
        "# Print the response\n",
        "print(response.text)\n"
      ],
      "metadata": {
        "colab": {
          "base_uri": "https://localhost:8080/"
        },
        "id": "elda_1i8xUok",
        "outputId": "64612029-61bd-4d37-d7ac-951449a64be5"
      },
      "execution_count": 16,
      "outputs": [
        {
          "output_type": "stream",
          "name": "stdout",
          "text": [
            "Please, check your link...\n"
          ]
        }
      ]
    }
  ]
}